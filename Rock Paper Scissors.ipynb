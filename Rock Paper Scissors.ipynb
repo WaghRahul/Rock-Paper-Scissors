{
 "cells": [
  {
   "cell_type": "code",
   "execution_count": 6,
   "id": "d80bcadc",
   "metadata": {},
   "outputs": [],
   "source": [
    "import random"
   ]
  },
  {
   "cell_type": "code",
   "execution_count": 7,
   "id": "8e083d47",
   "metadata": {},
   "outputs": [
    {
     "name": "stdout",
     "output_type": "stream",
     "text": [
      "Enter your name: Rahul\n",
      "Choose difficulty level (e/h): e\n",
      "Choose your move (r/p/s): p\n",
      "Rahul chose: p\n",
      "Computer chose: r\n",
      "Rahul wins!\n",
      "Do you want to play again (y/n)? n\n",
      "Thanks for playing!\n"
     ]
    }
   ],
   "source": [
    "def game():\n",
    "    options = [\"r\", \"p\", \"s\"]\n",
    "    player_name = input(\"Enter your name: \")\n",
    "    while True:\n",
    "        # Get difficulty level\n",
    "        difficulty = input(\"Choose difficulty level (e/h): \").lower()\n",
    "        if difficulty not in [\"e\", \"h\"]:\n",
    "            print(\"Invalid input! Please try again.\")\n",
    "            continue\n",
    "        # Get player's choice\n",
    "        player_choice = input(\"Choose your move (r/p/s): \").lower()\n",
    "        # Check if player's choice is valid\n",
    "        if player_choice not in options:\n",
    "            print(\"Invalid input! Please try again.\")\n",
    "            continue\n",
    "        # Generate computer's choice based on difficulty level\n",
    "        if difficulty == \"e\":\n",
    "            computer_choice = random.choice(options)\n",
    "        else:\n",
    "            # Choose a winning move based on player's choice\n",
    "            if player_choice == \"r\":\n",
    "                computer_choice = \"p\"\n",
    "            elif player_choice == \"p\":\n",
    "                computer_choice = \"s\"\n",
    "            else:\n",
    "                computer_choice = \"r\"\n",
    "        print(f\"{player_name} chose: {player_choice}\")\n",
    "        print(f\"Computer chose: {computer_choice}\")\n",
    "        # Determine the winner\n",
    "        if player_choice == computer_choice:\n",
    "            print(\"It's a tie!\")\n",
    "        elif player_choice == \"r\" and computer_choice == \"s\":\n",
    "            print(f\"{player_name} wins!\")\n",
    "        elif player_choice == \"p\" and computer_choice == \"r\":\n",
    "            print(f\"{player_name} wins!\")\n",
    "        elif player_choice == \"s\" and computer_choice == \"p\":\n",
    "            print(f\"{player_name} wins!\")\n",
    "        else:\n",
    "            print(\"Computer wins!\")\n",
    "        # Ask if player wants to play again\n",
    "        play_again = input(\"Do you want to play again (y/n)? \").lower()\n",
    "        if play_again != \"y\":\n",
    "            break\n",
    "    print(\"Thanks for playing!\")\n",
    "\n",
    "game()"
   ]
  },
  {
   "cell_type": "code",
   "execution_count": null,
   "id": "56f7c708",
   "metadata": {},
   "outputs": [],
   "source": []
  }
 ],
 "metadata": {
  "kernelspec": {
   "display_name": "Python 3 (ipykernel)",
   "language": "python",
   "name": "python3"
  },
  "language_info": {
   "codemirror_mode": {
    "name": "ipython",
    "version": 3
   },
   "file_extension": ".py",
   "mimetype": "text/x-python",
   "name": "python",
   "nbconvert_exporter": "python",
   "pygments_lexer": "ipython3",
   "version": "3.9.13"
  }
 },
 "nbformat": 4,
 "nbformat_minor": 5
}
